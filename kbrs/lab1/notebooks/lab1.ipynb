{
 "cells": [
  {
   "cell_type": "markdown",
   "source": [
    "# Task 1. Vigenère Algorithm"
   ],
   "metadata": {
    "collapsed": false
   },
   "id": "7baf3cee223ea3f5"
  },
  {
   "cell_type": "code",
   "execution_count": 400,
   "outputs": [],
   "source": [
    "KEYWORD = \"KEY\"\n",
    "SEQ_LEN = 3\n",
    "MAX_KEY_LEN = 20\n",
    "EN_REL_FREQ = {'A': 0.08167, 'B': 0.01492, 'C': 0.02782, 'D': 0.04253, 'E': 0.12702, 'F': 0.02228, 'G': 0.02015,\n",
    "               'H': 0.06094, 'I': 0.06966, 'J': 0.00153, 'K': 0.00772, 'L': 0.04025, 'M': 0.02406, 'N': 0.06749,\n",
    "               'O': 0.07507, 'P': 0.01929, 'Q': 0.00095, 'R': 0.05987, 'S': 0.06327, 'T': 0.09056, 'U': 0.02758,\n",
    "               'V': 0.00978, 'W': 0.02360, 'X': 0.00150, 'Y': 0.01974, 'Z': 0.00074}\n",
    "ALPHABET = list(EN_REL_FREQ.keys())"
   ],
   "metadata": {
    "collapsed": false,
    "ExecuteTime": {
     "end_time": "2023-09-19T14:18:13.534984411Z",
     "start_time": "2023-09-19T14:18:13.489327691Z"
    }
   },
   "id": "eb2fbb8c0994630b"
  },
  {
   "cell_type": "code",
   "execution_count": 401,
   "outputs": [],
   "source": [
    "string_to_encrypt = \"CRYPTOGRAPHYANDDATASECURITY\""
   ],
   "metadata": {
    "collapsed": false,
    "ExecuteTime": {
     "end_time": "2023-09-19T14:18:13.536715991Z",
     "start_time": "2023-09-19T14:18:13.494660993Z"
    }
   },
   "id": "e231875dd82ac920"
  },
  {
   "cell_type": "code",
   "execution_count": 402,
   "outputs": [],
   "source": [
    "from collections import defaultdict\n",
    "\n",
    "\n",
    "def _make_encrypt_table(alphabet: list[str], key_word: str):\n",
    "    encrypt_table = defaultdict(list)\n",
    "    for ch in key_word:\n",
    "        dist = ord(ch) - ord(alphabet[0])\n",
    "        encrypt_table[ch] = alphabet[dist:] + alphabet[:dist]\n",
    "    return encrypt_table"
   ],
   "metadata": {
    "collapsed": false,
    "ExecuteTime": {
     "end_time": "2023-09-19T14:18:13.548875799Z",
     "start_time": "2023-09-19T14:18:13.497549473Z"
    }
   },
   "id": "f734be04e1adfb59"
  },
  {
   "cell_type": "code",
   "execution_count": 403,
   "outputs": [],
   "source": [
    "def _full_string_with_keyword(s: str, key_word: str):\n",
    "    key_line = key_word * int(len(s) / len(key_word))\n",
    "    ost = int(len(s) % len(key_word))\n",
    "    key_line += key_word[:ost]\n",
    "    return key_line"
   ],
   "metadata": {
    "collapsed": false,
    "ExecuteTime": {
     "end_time": "2023-09-19T14:18:13.584673794Z",
     "start_time": "2023-09-19T14:18:13.542288595Z"
    }
   },
   "id": "4aa14848e8e49917"
  },
  {
   "cell_type": "code",
   "execution_count": 404,
   "outputs": [],
   "source": [
    "def encrypt_string(s: str, alphabet: list[str] = ALPHABET, key_word: str = KEYWORD):\n",
    "    s = s.upper()\n",
    "    encrypt_table = _make_encrypt_table(alphabet, key_word)\n",
    "    key_line = _full_string_with_keyword(s, key_word)\n",
    "    encrypted_str = \"\"\n",
    "    for ind in range(len(key_line)):\n",
    "        if s[ind] not in alphabet:\n",
    "            encrypted_str += s[ind]\n",
    "            continue\n",
    "        pos_in_alphabet = alphabet.index(s[ind])\n",
    "        encrypted_str += encrypt_table[key_line[ind]][pos_in_alphabet]\n",
    "    return encrypted_str"
   ],
   "metadata": {
    "collapsed": false,
    "ExecuteTime": {
     "end_time": "2023-09-19T14:18:13.584868860Z",
     "start_time": "2023-09-19T14:18:13.542391904Z"
    }
   },
   "id": "f9901aa263e015cd"
  },
  {
   "cell_type": "code",
   "execution_count": 405,
   "outputs": [
    {
     "data": {
      "text/plain": "'MVWZXMQVYZLWKRBNERKWCMYPSXW'"
     },
     "execution_count": 405,
     "metadata": {},
     "output_type": "execute_result"
    }
   ],
   "source": [
    "encrypted_string = encrypt_string(string_to_encrypt)\n",
    "encrypted_string"
   ],
   "metadata": {
    "collapsed": false,
    "ExecuteTime": {
     "end_time": "2023-09-19T14:18:13.585067092Z",
     "start_time": "2023-09-19T14:18:13.542435388Z"
    }
   },
   "id": "d08aa1f26d78ca30"
  },
  {
   "cell_type": "markdown",
   "source": [
    "## Encrypting large strings"
   ],
   "metadata": {
    "collapsed": false
   },
   "id": "5162f6694474372"
  },
  {
   "cell_type": "code",
   "execution_count": 406,
   "outputs": [],
   "source": [
    "needed_lines_length = [10, 20, 50, 100, 200, 500, 1000, 2000, 5000]\n",
    "lines = []\n",
    "data_path = '../data/harry_potter.txt'"
   ],
   "metadata": {
    "collapsed": false,
    "ExecuteTime": {
     "end_time": "2023-09-19T14:18:13.585150739Z",
     "start_time": "2023-09-19T14:18:13.542476103Z"
    }
   },
   "id": "877d7daa3c9f6ae4"
  },
  {
   "cell_type": "code",
   "execution_count": 407,
   "outputs": [],
   "source": [
    "with open(data_path, 'r') as file:\n",
    "    s = file.read()\n",
    "    s = ''.join(char for char in s if char.isalnum()).upper()\n",
    "    prev_str_end = 0\n",
    "    for length in needed_lines_length:\n",
    "        lines.append(s[prev_str_end:length])\n",
    "        prev_str_end = length"
   ],
   "metadata": {
    "collapsed": false,
    "ExecuteTime": {
     "end_time": "2023-09-19T14:18:13.585189926Z",
     "start_time": "2023-09-19T14:18:13.542508700Z"
    }
   },
   "id": "6df7a0ca7a1504e9"
  },
  {
   "cell_type": "code",
   "execution_count": 408,
   "outputs": [],
   "source": [
    "encrypted_lines = [\n",
    "    encrypt_string(line) for line in lines\n",
    "]"
   ],
   "metadata": {
    "collapsed": false,
    "ExecuteTime": {
     "end_time": "2023-09-19T14:18:13.585219486Z",
     "start_time": "2023-09-19T14:18:13.542541297Z"
    }
   },
   "id": "9f812c7516df353a"
  },
  {
   "cell_type": "markdown",
   "source": [
    "# Decryption"
   ],
   "metadata": {
    "collapsed": false
   },
   "id": "99a3f373d912665c"
  },
  {
   "cell_type": "markdown",
   "source": [
    "## Helper functions"
   ],
   "metadata": {
    "collapsed": false
   },
   "id": "2f5958e8fa8c0b5"
  },
  {
   "cell_type": "code",
   "execution_count": 409,
   "outputs": [],
   "source": [
    "def get_blocks(text, size):\n",
    "    blocks = [text[i:i + size] for i in range(0, len(text) - size, size)]\n",
    "    return blocks\n",
    "\n",
    "\n",
    "def get_columns(text_blocks):\n",
    "    group_size = len(text_blocks[0])\n",
    "    columns = []\n",
    "    for letter_count in range(group_size):\n",
    "        column = ''\n",
    "        for group_count in range(len(text_blocks)):\n",
    "            column += text_blocks[group_count][letter_count]\n",
    "        columns.append(column)\n",
    "    return columns\n",
    "\n",
    "\n",
    "def to_blocks(cols):\n",
    "    col_size = len(cols[0])\n",
    "    blocks = []\n",
    "    for letter in range(col_size):\n",
    "        block = ''\n",
    "        for col in range(len(cols)):\n",
    "            block += cols[col][letter]\n",
    "        blocks.append(block)\n",
    "    return blocks"
   ],
   "metadata": {
    "collapsed": false,
    "ExecuteTime": {
     "end_time": "2023-09-19T14:18:13.585243897Z",
     "start_time": "2023-09-19T14:18:13.544596072Z"
    }
   },
   "id": "67e6e2da91e36ef5"
  },
  {
   "cell_type": "markdown",
   "source": [
    "## Find keyword's len with Kasiski method"
   ],
   "metadata": {
    "collapsed": false
   },
   "id": "dfbc713049f7233d"
  },
  {
   "cell_type": "code",
   "execution_count": 410,
   "outputs": [],
   "source": [
    "from math import sqrt\n",
    "\n",
    "\n",
    "def _repeated_seq_pos(text, seq_len):\n",
    "    seq_pos = {}  # entries of sequence : [positions]\n",
    "    for i, char in enumerate(text):\n",
    "        next_seq = text[i:i + seq_len]\n",
    "        if next_seq in seq_pos.keys():\n",
    "            seq_pos[next_seq].append(i)\n",
    "        else:\n",
    "            seq_pos[next_seq] = [i]\n",
    "    repeated = list(filter(lambda x: len(seq_pos[x]) >= 2, seq_pos))\n",
    "    rep_seq_pos = [(seq, seq_pos[seq]) for seq in repeated]\n",
    "    return rep_seq_pos\n",
    "\n",
    "\n",
    "def _get_spacings(positions):\n",
    "    return [positions[i + 1] - positions[i] for i in range(len(positions) - 1)]\n",
    "\n",
    "\n",
    "def _get_factors(number):\n",
    "    factors = set()\n",
    "    for i in range(1, int(sqrt(number)) + 1):\n",
    "        if number % i == 0:\n",
    "            factors.add(i)\n",
    "            factors.add(number // i)\n",
    "    return sorted(factors)\n",
    "\n",
    "\n",
    "def _candidate_key_lengths(factor_lists, max_key_len):\n",
    "    all_factors = [factor_lists[lst][fac] for lst in range(len(factor_lists)) for fac in range(len(factor_lists[lst]))]\n",
    "    # exclude factors larger than suspected max key length\n",
    "    candidate_lengths = list(filter(lambda x: 1 < x <= max_key_len, all_factors))\n",
    "    # sort by probability (descending)\n",
    "    sorted_candidates = sorted(set(candidate_lengths), key=lambda x: all_factors.count(x), reverse=True)\n",
    "    return sorted_candidates\n",
    "\n",
    "\n",
    "def find_key_length(cyphertext, seq_len, max_key_len):\n",
    "    # find repeated sequences and their positions\n",
    "    rsp = _repeated_seq_pos(text=cyphertext, seq_len=seq_len)\n",
    "    seq_spc = {}\n",
    "    for seq, positions in rsp:\n",
    "        seq_spc[seq] = _get_spacings(positions)\n",
    "    # calculate spacings between positions of each repeated\n",
    "    # sequence and factor out spacings\n",
    "    factor_lists = []\n",
    "    for spacings in seq_spc.values():\n",
    "        for space in spacings:\n",
    "            factor_lists.append(_get_factors(number=space))\n",
    "    # get common factors by descending frequency,\n",
    "    # which constitute candidate key lengths\n",
    "    ckl = _candidate_key_lengths(factor_lists=factor_lists, max_key_len=max_key_len)\n",
    "    if len(ckl) == 0:\n",
    "        raise ValueError(\"Could not attack provided cyphertext\")\n",
    "    key_len = ckl[0]\n",
    "    return key_len"
   ],
   "metadata": {
    "collapsed": false,
    "ExecuteTime": {
     "end_time": "2023-09-19T14:18:13.585606246Z",
     "start_time": "2023-09-19T14:18:13.552165635Z"
    }
   },
   "id": "6b5c352cc8e50efa"
  },
  {
   "cell_type": "markdown",
   "source": [
    "## Guessing keywords with its length"
   ],
   "metadata": {
    "collapsed": false
   },
   "id": "8f5563d1705f2803"
  },
  {
   "cell_type": "code",
   "execution_count": 411,
   "outputs": [],
   "source": [
    "import string\n",
    "\n",
    "\n",
    "def get_letter_counts(text):\n",
    "    text_upper = text.upper()\n",
    "    letter_counts = {}\n",
    "    for index, letter in enumerate(string.ascii_uppercase):\n",
    "        letter_counts[letter] = text_upper.count(letter)\n",
    "    return letter_counts\n",
    "\n",
    "\n",
    "def _get_letter_frequencies(text):\n",
    "    letter_counts = get_letter_counts(text)\n",
    "    frequencies = {letter: count / len(text) for letter, count in letter_counts.items()}\n",
    "    return frequencies\n",
    "\n",
    "\n",
    "def shift(text, amount):\n",
    "    shifted = ''\n",
    "    letters = string.ascii_uppercase\n",
    "    for letter in text:\n",
    "        shifted += letters[(letters.index(letter) - amount) % len(letters)]\n",
    "    return shifted\n",
    "\n",
    "\n",
    "def _corr(text, lf):\n",
    "    return sum([(lf[letter] * EN_REL_FREQ[letter]) for letter in text])\n",
    "\n",
    "\n",
    "def _find_key_letter(text, lf):\n",
    "    key_letter = ''\n",
    "    max_corr = 0\n",
    "    for count, letter in enumerate(string.ascii_uppercase):\n",
    "        shifted = shift(text=text, amount=count)\n",
    "        corr = _corr(text=shifted, lf=lf)\n",
    "        if corr > max_corr:\n",
    "            max_corr = corr\n",
    "            key_letter = letter\n",
    "    return key_letter\n",
    "\n",
    "\n",
    "def restore_key(cyphertext, key_len):\n",
    "    key = ''\n",
    "    blocks = get_blocks(text=cyphertext, size=key_len)\n",
    "    columns = get_columns(blocks)\n",
    "    frequencies = _get_letter_frequencies(text=cyphertext)\n",
    "    for column in columns:\n",
    "        key += _find_key_letter(text=column, lf=frequencies)\n",
    "    return key"
   ],
   "metadata": {
    "collapsed": false,
    "ExecuteTime": {
     "end_time": "2023-09-19T14:18:13.633881004Z",
     "start_time": "2023-09-19T14:18:13.560332667Z"
    }
   },
   "id": "9a324be334252c68"
  },
  {
   "cell_type": "code",
   "execution_count": 412,
   "outputs": [],
   "source": [
    "def decypher(cyphertext, key):\n",
    "    letters = string.ascii_uppercase\n",
    "    shifts = [letters.index(letter) for letter in key]\n",
    "    blocks = get_blocks(text=cyphertext, size=len(key))\n",
    "    cols = get_columns(blocks)\n",
    "    decyphered_blocks = to_blocks([shift(col, shiftt) for col, shiftt in zip(cols, shifts)])\n",
    "    decyphered = ''.join(decyphered_blocks)\n",
    "    return decyphered"
   ],
   "metadata": {
    "collapsed": false,
    "ExecuteTime": {
     "end_time": "2023-09-19T14:18:13.634094048Z",
     "start_time": "2023-09-19T14:18:13.606347567Z"
    }
   },
   "id": "f52ed532b95994bc"
  },
  {
   "cell_type": "code",
   "execution_count": 413,
   "outputs": [],
   "source": [
    "def attack(cyphertext: str):\n",
    "    key_len = find_key_length(cyphertext=cyphertext, seq_len=SEQ_LEN, max_key_len=MAX_KEY_LEN)\n",
    "    print(key_len)\n",
    "    key = restore_key(cyphertext, key_len)\n",
    "    decyphered = decypher(cyphertext, key)\n",
    "    print('Chosen key length: ' + str(key_len))\n",
    "    print('Restored key: ' + str(key))\n",
    "    print('Plaintext: ' + str(decyphered))"
   ],
   "metadata": {
    "collapsed": false,
    "ExecuteTime": {
     "end_time": "2023-09-19T14:18:13.634156748Z",
     "start_time": "2023-09-19T14:18:13.606438297Z"
    }
   },
   "id": "9218b78ba0cf119e"
  },
  {
   "cell_type": "code",
   "execution_count": 414,
   "outputs": [
    {
     "name": "stdout",
     "output_type": "stream",
     "text": [
      "3\n",
      "Chosen key length: 3\n",
      "Restored key: KEY\n",
      "Plaintext: THENEIGHBORSWOULDSAYIFTHEPOTTERSARRIVEDINTHESTREETTHEDURSLEYSKNEWTHATTHEPOTTERSHADASMALLSONTOOBUTTHEYHADNEVEREVENSEENHIMTHISBOYWASANOTHERGOODREASONFORKEEPINGTHEPOTTERSAWAYTHEYDIDNTWANTDUDLEYMIXINGWITHACHILDLIKETHATWHENMRANDMRSDURSLEYWOKEUPONTHEDULLGRAYTUESDAYOURSTORYSTARTSTHEREWASNOTHINGABOUTTHECLOUDYSKYOUTSIDETOSUGGESTTHATSTRANGEANDMYSTERIOUSTHINGSWOULDSOONBEHAPPENINGALLOVERTHECOUNTRYMRDURSLEYHUMMEDASHEPICKEDOUTHISMOSTBORINGTIEFORWORKANDMRSDURSLEYGOSSIPEDAWAYHAPPILYASSHEWRESTLEDASCREAMINGDUDLEYINTOHISHIGHCHAIRNONEOFTHEMNOTICEDALARGETAWNYOWLFLUTTERPASTTHEWINDOWATHALFPASTEIGHTMRDURSLEYPICKEDUPHISBRIEFCASEPECKEDMRSDURSLEYONTHECHEEKANDTRIEDTOKISSDUDLEYGOODBYEBUTMISSEDBECAUSEDUDLEYWASNOWHAVINGATANTRUMANDTHROWINGHISCEREALATTHEWALLSLITTLETYKECHORTLEDMRDURSLEYASHELEFTTHEHOUSEHEGOTINTOHISCARANDBACKEDOUTOFNUMBERFOURSDRIVEITWASONTHECORNEROFTHESTREETTHATHENOTICEDTHEFIRSTSIGNOFSOMETHINGPECULIARACATREADINGAMAPFORASECONDMRDURSLEYDIDNTREALIZEWHATHEHADSEENTHENHEJERKEDHISHEADAROUNDTOLOOKAGAINTHEREWASA\n"
     ]
    }
   ],
   "source": [
    "attack(encrypted_lines[-2])"
   ],
   "metadata": {
    "collapsed": false,
    "ExecuteTime": {
     "end_time": "2023-09-19T14:18:13.634307003Z",
     "start_time": "2023-09-19T14:18:13.606476243Z"
    }
   },
   "id": "8f01c23c532ed5f4"
  },
  {
   "cell_type": "code",
   "execution_count": 414,
   "outputs": [],
   "source": [],
   "metadata": {
    "collapsed": false,
    "ExecuteTime": {
     "end_time": "2023-09-19T14:18:13.634342860Z",
     "start_time": "2023-09-19T14:18:13.606518002Z"
    }
   },
   "id": "26d044baf3df9300"
  }
 ],
 "metadata": {
  "kernelspec": {
   "display_name": "Python 3",
   "language": "python",
   "name": "python3"
  },
  "language_info": {
   "codemirror_mode": {
    "name": "ipython",
    "version": 2
   },
   "file_extension": ".py",
   "mimetype": "text/x-python",
   "name": "python",
   "nbconvert_exporter": "python",
   "pygments_lexer": "ipython2",
   "version": "2.7.6"
  }
 },
 "nbformat": 4,
 "nbformat_minor": 5
}
