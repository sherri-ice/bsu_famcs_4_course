{
 "cells": [
  {
   "cell_type": "markdown",
   "source": [
    "# Task 1. Vigenère Algorithm"
   ],
   "metadata": {
    "collapsed": false
   },
   "id": "7baf3cee223ea3f5"
  },
  {
   "cell_type": "code",
   "execution_count": 454,
   "outputs": [],
   "source": [
    "KEYWORD = \"KEY\"\n",
    "SEQ_LEN = 3\n",
    "MAX_KEY_LEN = 20\n",
    "EN_REL_FREQ = {'A': 0.08167, 'B': 0.01492, 'C': 0.02782, 'D': 0.04253, 'E': 0.12702, 'F': 0.02228, 'G': 0.02015,\n",
    "               'H': 0.06094, 'I': 0.06966, 'J': 0.00153, 'K': 0.00772, 'L': 0.04025, 'M': 0.02406, 'N': 0.06749,\n",
    "               'O': 0.07507, 'P': 0.01929, 'Q': 0.00095, 'R': 0.05987, 'S': 0.06327, 'T': 0.09056, 'U': 0.02758,\n",
    "               'V': 0.00978, 'W': 0.02360, 'X': 0.00150, 'Y': 0.01974, 'Z': 0.00074}\n",
    "ALPHABET = list(EN_REL_FREQ.keys())"
   ],
   "metadata": {
    "collapsed": false,
    "ExecuteTime": {
     "end_time": "2023-09-19T15:56:31.679418009Z",
     "start_time": "2023-09-19T15:56:31.643792701Z"
    }
   },
   "id": "eb2fbb8c0994630b"
  },
  {
   "cell_type": "code",
   "execution_count": 455,
   "outputs": [],
   "source": [
    "string_to_encrypt = \"CRYPTOGRAPHYANDDATASECURITY\""
   ],
   "metadata": {
    "collapsed": false,
    "ExecuteTime": {
     "end_time": "2023-09-19T15:56:31.696036485Z",
     "start_time": "2023-09-19T15:56:31.648561676Z"
    }
   },
   "id": "e231875dd82ac920"
  },
  {
   "cell_type": "code",
   "execution_count": 456,
   "outputs": [],
   "source": [
    "from collections import defaultdict\n",
    "\n",
    "\n",
    "def _make_encrypt_table(alphabet: list[str], key_word: str):\n",
    "    encrypt_table = defaultdict(list)\n",
    "    for ch in key_word:\n",
    "        dist = ord(ch) - ord(alphabet[0])\n",
    "        encrypt_table[ch] = alphabet[dist:] + alphabet[:dist]\n",
    "    return encrypt_table"
   ],
   "metadata": {
    "collapsed": false,
    "ExecuteTime": {
     "end_time": "2023-09-19T15:56:31.722491788Z",
     "start_time": "2023-09-19T15:56:31.694335081Z"
    }
   },
   "id": "f734be04e1adfb59"
  },
  {
   "cell_type": "code",
   "execution_count": 457,
   "outputs": [],
   "source": [
    "def _full_string_with_keyword(s: str, key_word: str):\n",
    "    key_line = key_word * int(len(s) / len(key_word))\n",
    "    ost = int(len(s) % len(key_word))\n",
    "    key_line += key_word[:ost]\n",
    "    return key_line"
   ],
   "metadata": {
    "collapsed": false,
    "ExecuteTime": {
     "end_time": "2023-09-19T15:56:31.722651206Z",
     "start_time": "2023-09-19T15:56:31.694492639Z"
    }
   },
   "id": "4aa14848e8e49917"
  },
  {
   "cell_type": "code",
   "execution_count": 458,
   "outputs": [],
   "source": [
    "def encrypt_string(s: str, alphabet: list[str] = ALPHABET, key_word: str = KEYWORD):\n",
    "    s = s.upper()\n",
    "    encrypt_table = _make_encrypt_table(alphabet, key_word)\n",
    "    key_line = _full_string_with_keyword(s, key_word)\n",
    "    encrypted_str = \"\"\n",
    "    for ind in range(len(key_line)):\n",
    "        if s[ind] not in alphabet:\n",
    "            encrypted_str += s[ind]\n",
    "            continue\n",
    "        pos_in_alphabet = alphabet.index(s[ind])\n",
    "        encrypted_str += encrypt_table[key_line[ind]][pos_in_alphabet]\n",
    "    return encrypted_str"
   ],
   "metadata": {
    "collapsed": false,
    "ExecuteTime": {
     "end_time": "2023-09-19T15:56:31.722693100Z",
     "start_time": "2023-09-19T15:56:31.694556399Z"
    }
   },
   "id": "f9901aa263e015cd"
  },
  {
   "cell_type": "code",
   "execution_count": 459,
   "outputs": [
    {
     "data": {
      "text/plain": "'MVWZXMQVYZLWKRBNERKWCMYPSXW'"
     },
     "execution_count": 459,
     "metadata": {},
     "output_type": "execute_result"
    }
   ],
   "source": [
    "encrypted_string = encrypt_string(string_to_encrypt)\n",
    "encrypted_string"
   ],
   "metadata": {
    "collapsed": false,
    "ExecuteTime": {
     "end_time": "2023-09-19T15:56:31.722825996Z",
     "start_time": "2023-09-19T15:56:31.694615603Z"
    }
   },
   "id": "d08aa1f26d78ca30"
  },
  {
   "cell_type": "markdown",
   "source": [
    "## Encrypting large strings"
   ],
   "metadata": {
    "collapsed": false
   },
   "id": "5162f6694474372"
  },
  {
   "cell_type": "code",
   "execution_count": 460,
   "outputs": [],
   "source": [
    "needed_lines_length = [5000, 10000]\n",
    "lines = []\n",
    "data_path = '../data/harry_potter.txt'"
   ],
   "metadata": {
    "collapsed": false,
    "ExecuteTime": {
     "end_time": "2023-09-19T15:56:31.722858290Z",
     "start_time": "2023-09-19T15:56:31.694675753Z"
    }
   },
   "id": "877d7daa3c9f6ae4"
  },
  {
   "cell_type": "code",
   "execution_count": 461,
   "outputs": [],
   "source": [
    "with open(data_path, 'r') as file:\n",
    "    s = file.read()\n",
    "    s = ''.join(char for char in s if char.isalnum()).upper()\n",
    "    prev_str_end = 0\n",
    "    for length in needed_lines_length:\n",
    "        lines.append(s[prev_str_end:prev_str_end + length])\n",
    "        prev_str_end = length"
   ],
   "metadata": {
    "collapsed": false,
    "ExecuteTime": {
     "end_time": "2023-09-19T15:56:31.722881658Z",
     "start_time": "2023-09-19T15:56:31.694724004Z"
    }
   },
   "id": "6df7a0ca7a1504e9"
  },
  {
   "cell_type": "code",
   "execution_count": 462,
   "outputs": [],
   "source": [
    "encrypted_lines = [\n",
    "    encrypt_string(line) for line in lines\n",
    "]"
   ],
   "metadata": {
    "collapsed": false,
    "ExecuteTime": {
     "end_time": "2023-09-19T15:56:31.723618355Z",
     "start_time": "2023-09-19T15:56:31.699568789Z"
    }
   },
   "id": "9f812c7516df353a"
  },
  {
   "cell_type": "markdown",
   "source": [
    "# Decryption"
   ],
   "metadata": {
    "collapsed": false
   },
   "id": "99a3f373d912665c"
  },
  {
   "cell_type": "markdown",
   "source": [
    "## Helper functions"
   ],
   "metadata": {
    "collapsed": false
   },
   "id": "2f5958e8fa8c0b5"
  },
  {
   "cell_type": "code",
   "execution_count": 463,
   "outputs": [],
   "source": [
    "def get_blocks(text, size):\n",
    "    blocks = [text[i:i + size] for i in range(0, len(text) - size, size)]\n",
    "    return blocks\n",
    "\n",
    "\n",
    "def get_columns(text_blocks):\n",
    "    group_size = len(text_blocks[0])\n",
    "    columns = []\n",
    "    for letter_count in range(group_size):\n",
    "        column = ''\n",
    "        for group_count in range(len(text_blocks)):\n",
    "            column += text_blocks[group_count][letter_count]\n",
    "        columns.append(column)\n",
    "    return columns\n",
    "\n",
    "\n",
    "def to_blocks(cols):\n",
    "    col_size = len(cols[0])\n",
    "    blocks = []\n",
    "    for letter in range(col_size):\n",
    "        block = ''\n",
    "        for col in range(len(cols)):\n",
    "            block += cols[col][letter]\n",
    "        blocks.append(block)\n",
    "    return blocks"
   ],
   "metadata": {
    "collapsed": false,
    "ExecuteTime": {
     "end_time": "2023-09-19T15:56:31.723711011Z",
     "start_time": "2023-09-19T15:56:31.704619580Z"
    }
   },
   "id": "67e6e2da91e36ef5"
  },
  {
   "cell_type": "markdown",
   "source": [
    "## Find keyword's len with Kasiski method"
   ],
   "metadata": {
    "collapsed": false
   },
   "id": "dfbc713049f7233d"
  },
  {
   "cell_type": "code",
   "execution_count": 464,
   "outputs": [],
   "source": [
    "from math import sqrt\n",
    "\n",
    "\n",
    "def _repeated_seq_pos(text, seq_len):\n",
    "    seq_pos = {}  # entries of sequence : [positions]\n",
    "    for i, char in enumerate(text):\n",
    "        next_seq = text[i:i + seq_len]\n",
    "        if next_seq in seq_pos.keys():\n",
    "            seq_pos[next_seq].append(i)\n",
    "        else:\n",
    "            seq_pos[next_seq] = [i]\n",
    "    repeated = list(filter(lambda x: len(seq_pos[x]) >= 2, seq_pos))\n",
    "    rep_seq_pos = [(seq, seq_pos[seq]) for seq in repeated]\n",
    "    return rep_seq_pos\n",
    "\n",
    "\n",
    "def _get_spacings(positions):\n",
    "    return [positions[i + 1] - positions[i] for i in range(len(positions) - 1)]\n",
    "\n",
    "\n",
    "def _get_factors(number):\n",
    "    factors = set()\n",
    "    for i in range(1, int(sqrt(number)) + 1):\n",
    "        if number % i == 0:\n",
    "            factors.add(i)\n",
    "            factors.add(number // i)\n",
    "    return sorted(factors)\n",
    "\n",
    "\n",
    "def _candidate_key_lengths(factor_lists, max_key_len):\n",
    "    all_factors = [factor_lists[lst][fac] for lst in range(len(factor_lists)) for fac in range(len(factor_lists[lst]))]\n",
    "    # exclude factors larger than suspected max key length\n",
    "    candidate_lengths = list(filter(lambda x: 2 < x <= max_key_len, all_factors))\n",
    "    # sort by probability (descending)\n",
    "    sorted_candidates = sorted(set(candidate_lengths), key=lambda x: (all_factors.count(x), x), reverse=True)\n",
    "    return sorted_candidates\n",
    "\n",
    "\n",
    "def find_key_length(cyphertext, seq_len, max_key_len):\n",
    "    # find repeated sequences and their positions\n",
    "    rsp = _repeated_seq_pos(text=cyphertext, seq_len=seq_len)\n",
    "    seq_spc = {}\n",
    "    for seq, positions in rsp:\n",
    "        seq_spc[seq] = _get_spacings(positions)\n",
    "    # calculate spacings between positions of each repeated\n",
    "    # sequence and factor out spacings\n",
    "    factor_lists = []\n",
    "    for spacings in seq_spc.values():\n",
    "        for space in spacings:\n",
    "            factor_lists.append(_get_factors(number=space))\n",
    "    # get common factors by descending frequency,\n",
    "    # which constitute candidate key lengths\n",
    "    ckl = _candidate_key_lengths(factor_lists=factor_lists, max_key_len=max_key_len)\n",
    "    if len(ckl) == 0:\n",
    "        raise ValueError(\"Could not attack provided cyphertext\")\n",
    "    key_len = ckl[0]\n",
    "    return key_len"
   ],
   "metadata": {
    "collapsed": false,
    "ExecuteTime": {
     "end_time": "2023-09-19T15:56:31.723773947Z",
     "start_time": "2023-09-19T15:56:31.712539973Z"
    }
   },
   "id": "6b5c352cc8e50efa"
  },
  {
   "cell_type": "markdown",
   "source": [
    "## Guessing keywords with its length"
   ],
   "metadata": {
    "collapsed": false
   },
   "id": "8f5563d1705f2803"
  },
  {
   "cell_type": "code",
   "execution_count": 465,
   "outputs": [],
   "source": [
    "import string\n",
    "\n",
    "\n",
    "def get_letter_counts(text):\n",
    "    text_upper = text.upper()\n",
    "    letter_counts = {}\n",
    "    for index, letter in enumerate(string.ascii_uppercase):\n",
    "        letter_counts[letter] = text_upper.count(letter)\n",
    "    return letter_counts\n",
    "\n",
    "\n",
    "def _get_letter_frequencies(text):\n",
    "    letter_counts = get_letter_counts(text)\n",
    "    frequencies = {letter: count / len(text) for letter, count in letter_counts.items()}\n",
    "    return frequencies\n",
    "\n",
    "\n",
    "def shift(text, amount):\n",
    "    shifted = ''\n",
    "    letters = string.ascii_uppercase\n",
    "    for letter in text:\n",
    "        shifted += letters[(letters.index(letter) - amount) % len(letters)]\n",
    "    return shifted\n",
    "\n",
    "\n",
    "def _corr(text, lf):\n",
    "    return sum([(lf[letter] * EN_REL_FREQ[letter]) for letter in text])\n",
    "\n",
    "\n",
    "def _find_key_letter(text, lf):\n",
    "    key_letter = ''\n",
    "    max_corr = 0\n",
    "    for count, letter in enumerate(string.ascii_uppercase):\n",
    "        shifted = shift(text=text, amount=count)\n",
    "        corr = _corr(text=shifted, lf=lf)\n",
    "        if corr > max_corr:\n",
    "            max_corr = corr\n",
    "            key_letter = letter\n",
    "    return key_letter\n",
    "\n",
    "\n",
    "def restore_key(cyphertext, key_len):\n",
    "    key = ''\n",
    "    blocks = get_blocks(text=cyphertext, size=key_len)\n",
    "    columns = get_columns(blocks)\n",
    "    frequencies = _get_letter_frequencies(text=cyphertext)\n",
    "    for column in columns:\n",
    "        key += _find_key_letter(text=column, lf=frequencies)\n",
    "    return key"
   ],
   "metadata": {
    "collapsed": false,
    "ExecuteTime": {
     "end_time": "2023-09-19T15:56:31.776648146Z",
     "start_time": "2023-09-19T15:56:31.718557566Z"
    }
   },
   "id": "9a324be334252c68"
  },
  {
   "cell_type": "code",
   "execution_count": 466,
   "outputs": [],
   "source": [
    "def decypher(cyphertext, key):\n",
    "    letters = string.ascii_uppercase\n",
    "    shifts = [letters.index(letter) for letter in key]\n",
    "    blocks = get_blocks(text=cyphertext, size=len(key))\n",
    "    cols = get_columns(blocks)\n",
    "    decyphered_blocks = to_blocks([shift(col, shiftt) for col, shiftt in zip(cols, shifts)])\n",
    "    decyphered = ''.join(decyphered_blocks)\n",
    "    return decyphered"
   ],
   "metadata": {
    "collapsed": false,
    "ExecuteTime": {
     "end_time": "2023-09-19T15:56:31.776828975Z",
     "start_time": "2023-09-19T15:56:31.762323494Z"
    }
   },
   "id": "f52ed532b95994bc"
  },
  {
   "cell_type": "code",
   "execution_count": 467,
   "outputs": [],
   "source": [
    "def attack(cyphertext: str):\n",
    "    key_len = find_key_length(cyphertext=cyphertext, seq_len=SEQ_LEN, max_key_len=MAX_KEY_LEN)\n",
    "    key = restore_key(cyphertext, key_len)\n",
    "    decrypted = decypher(cyphertext, key)\n",
    "    return key, decrypted"
   ],
   "metadata": {
    "collapsed": false,
    "ExecuteTime": {
     "end_time": "2023-09-19T15:56:31.776874157Z",
     "start_time": "2023-09-19T15:56:31.762434918Z"
    }
   },
   "id": "9218b78ba0cf119e"
  },
  {
   "cell_type": "code",
   "execution_count": 468,
   "outputs": [
    {
     "data": {
      "text/plain": "'KEY'"
     },
     "execution_count": 468,
     "metadata": {},
     "output_type": "execute_result"
    }
   ],
   "source": [
    "key, decrypted = attack(encrypted_lines[-2])\n",
    "key"
   ],
   "metadata": {
    "collapsed": false,
    "ExecuteTime": {
     "end_time": "2023-09-19T15:56:31.815617158Z",
     "start_time": "2023-09-19T15:56:31.806429836Z"
    }
   },
   "id": "8f01c23c532ed5f4"
  },
  {
   "cell_type": "markdown",
   "source": [
    "# Task 2. Conduct an experimental study of the dependence of the probability of a successful attack using the Kasiska method on the length of the ciphertext. "
   ],
   "metadata": {
    "collapsed": false
   },
   "id": "65f505aa1cda0af0"
  },
  {
   "cell_type": "code",
   "execution_count": 469,
   "outputs": [],
   "source": [
    "from random import randint\n",
    "\n",
    "\n",
    "def load_text(path: str = data_path):\n",
    "    with open(path, 'r') as file:\n",
    "        return file.read()\n",
    "\n",
    "\n",
    "plain_text = load_text().upper()\n",
    "\n",
    "\n",
    "def get_random_string(n: int):\n",
    "    global plain_text\n",
    "    start = randint(0, len(plain_text) - (n + 1))\n",
    "    end = start + n + 1\n",
    "    s =  plain_text[start:end]\n",
    "    return ''.join(char for char in s if char.isalnum()).upper()\n"
   ],
   "metadata": {
    "collapsed": false,
    "ExecuteTime": {
     "end_time": "2023-09-19T15:56:31.815730131Z",
     "start_time": "2023-09-19T15:56:31.806582820Z"
    }
   },
   "id": "9336a429a4ea6d76"
  },
  {
   "cell_type": "code",
   "execution_count": 477,
   "outputs": [],
   "source": [
    "keys = [\n",
    "    \"KEY\",\n",
    "    \"ABCD\",\n",
    "    \"FAMCS\",\n",
    "    \"QWERTY\",\n",
    "    \"ILOVEWORKING\",\n",
    "    \"SOMEVERYCOMPLEXKEY\",\n",
    "    \"QWERTYUIOPASDFGHJKLZXCVBNM\"\n",
    "]\n",
    "lengths = [10, 50, 100, 200, 500, 1000, 2000, 5000, 10000]"
   ],
   "metadata": {
    "collapsed": false,
    "ExecuteTime": {
     "end_time": "2023-09-19T16:02:29.262439866Z",
     "start_time": "2023-09-19T16:02:29.220465811Z"
    }
   },
   "id": "65b574811fbb83c8"
  },
  {
   "cell_type": "code",
   "execution_count": 478,
   "outputs": [],
   "source": [
    "result = []\n",
    "for keyword in keys:\n",
    "    for n in lengths:\n",
    "        count = 0\n",
    "        for num_try in range(0, 100):\n",
    "            line = get_random_string(n)\n",
    "            encrypted_line = encrypt_string(line, key_word=keyword)\n",
    "            try:\n",
    "                key, decrypted = attack(encrypted_line)\n",
    "                assert key == keyword\n",
    "                count += 1\n",
    "            except (ValueError, AssertionError):\n",
    "                pass\n",
    "        result.append((len(keyword), n, count/100))\n",
    "        "
   ],
   "metadata": {
    "collapsed": false,
    "ExecuteTime": {
     "end_time": "2023-09-19T16:03:26.098728447Z",
     "start_time": "2023-09-19T16:02:30.836482008Z"
    }
   },
   "id": "76943bb73e615120"
  },
  {
   "cell_type": "code",
   "execution_count": 472,
   "outputs": [
    {
     "data": {
      "text/plain": "[(3, 10, 0.0),\n (3, 50, 0.0),\n (3, 100, 0.01),\n (3, 200, 0.15),\n (3, 500, 0.67),\n (3, 1000, 0.74),\n (3, 2000, 0.93),\n (3, 5000, 0.79),\n (3, 10000, 0.71),\n (4, 10, 0.0),\n (4, 50, 0.0),\n (4, 100, 0.03),\n (4, 200, 0.45),\n (4, 500, 0.96),\n (4, 1000, 0.97),\n (4, 2000, 0.91),\n (4, 5000, 0.84),\n (4, 10000, 0.64),\n (5, 10, 0.0),\n (5, 50, 0.0),\n (5, 100, 0.0),\n (5, 200, 0.14),\n (5, 500, 0.88),\n (5, 1000, 0.96),\n (5, 2000, 0.95),\n (5, 5000, 0.79),\n (5, 10000, 0.63),\n (6, 10, 0.0),\n (6, 50, 0.0),\n (6, 100, 0.0),\n (6, 200, 0.05),\n (6, 500, 0.34),\n (6, 1000, 0.2),\n (6, 2000, 0.0),\n (6, 5000, 0.0),\n (6, 10000, 0.0)]"
     },
     "execution_count": 472,
     "metadata": {},
     "output_type": "execute_result"
    }
   ],
   "source": [
    "result"
   ],
   "metadata": {
    "collapsed": false,
    "ExecuteTime": {
     "end_time": "2023-09-19T15:57:04.930832155Z",
     "start_time": "2023-09-19T15:57:04.930331962Z"
    }
   },
   "id": "227f5e8fb42b4438"
  },
  {
   "cell_type": "code",
   "execution_count": 479,
   "outputs": [
    {
     "data": {
      "text/plain": "<Figure size 1000x600 with 2 Axes>",
      "image/png": "[encoded data removed]"
     },
     "metadata": {},
     "output_type": "display_data"
    }
   ],
   "source": [
    "import seaborn as sns\n",
    "import matplotlib.pyplot as plt\n",
    "\n",
    "# Sample data in the format of (keyword_len, ciphertext_len, probability)\n",
    "data = result\n",
    "\n",
    "# Extract x, y, and color values\n",
    "x = [item[0] for item in data]\n",
    "y = [item[1] for item in data[::-1]]\n",
    "color = [item[2] for item in data]\n",
    "\n",
    "# Create a DataFrame\n",
    "import pandas as pd\n",
    "df = pd.DataFrame({'Keyword Length': x, 'Ciphertext Length': y, 'Probability': color})\n",
    "\n",
    "# Create a pivot table for the heatmap\n",
    "pivot_table = df.pivot_table(index='Ciphertext Length', columns='Keyword Length', values='Probability')\n",
    "\n",
    "# Create the heatmap using Seaborn\n",
    "plt.figure(figsize=(10, 6))\n",
    "sns.heatmap(pivot_table, cmap='viridis', fmt=\".2f\", cbar=True)\n",
    "\n",
    "# Add labels and title\n",
    "plt.xlabel('Keyword Length')\n",
    "plt.ylabel('Ciphertext Length')\n",
    "plt.title('Heatmap of Keyword Length vs. Ciphertext Length with Probability')\n",
    "\n",
    "# Show the plot\n",
    "plt.show()\n"
   ],
   "metadata": {
    "collapsed": false,
    "ExecuteTime": {
     "end_time": "2023-09-19T16:03:38.926999732Z",
     "start_time": "2023-09-19T16:03:38.816028862Z"
    }
   },
   "id": "cd47c53c2e7d8d38"
  },
  {
   "cell_type": "code",
   "execution_count": 473,
   "outputs": [],
   "source": [],
   "metadata": {
    "collapsed": false,
    "ExecuteTime": {
     "end_time": "2023-09-19T15:57:05.011915415Z",
     "start_time": "2023-09-19T15:57:05.009786567Z"
    }
   },
   "id": "5fe657fef9d8ca5e"
  }
 ],
 "metadata": {
  "kernelspec": {
   "display_name": "Python 3",
   "language": "python",
   "name": "python3"
  },
  "language_info": {
   "codemirror_mode": {
    "name": "ipython",
    "version": 2
   },
   "file_extension": ".py",
   "mimetype": "text/x-python",
   "name": "python",
   "nbconvert_exporter": "python",
   "pygments_lexer": "ipython2",
   "version": "2.7.6"
  }
 },
 "nbformat": 4,
 "nbformat_minor": 5
}
