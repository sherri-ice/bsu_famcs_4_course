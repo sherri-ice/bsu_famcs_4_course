{
 "cells": [
  {
   "cell_type": "code",
   "execution_count": 1,
   "outputs": [
    {
     "name": "stdout",
     "output_type": "stream",
     "text": [
      "Collecting opencv-python\r\n",
      "  Obtaining dependency information for opencv-python from https://files.pythonhosted.org/packages/b7/8a/b2f7e1a434d56bf1d7570fc5941ace0847404e1032d7f1f0b8fed896568d/opencv_python-4.8.1.78-cp37-abi3-manylinux_2_17_x86_64.manylinux2014_x86_64.whl.metadata\r\n",
      "  Downloading opencv_python-4.8.1.78-cp37-abi3-manylinux_2_17_x86_64.manylinux2014_x86_64.whl.metadata (19 kB)\r\n",
      "Requirement already satisfied: numpy>=1.17.0 in /home/katerina/PycharmProjects/bsu_famcs_4_course/venv/lib/python3.9/site-packages (from opencv-python) (1.26.2)\r\n",
      "Downloading opencv_python-4.8.1.78-cp37-abi3-manylinux_2_17_x86_64.manylinux2014_x86_64.whl (61.7 MB)\r\n",
      "\u001B[2K   \u001B[90m━━━━━━━━━━━━━━━━━━━━━━━━━━━━━━━━━━━━━━━━\u001B[0m \u001B[32m61.7/61.7 MB\u001B[0m \u001B[31m9.9 MB/s\u001B[0m eta \u001B[36m0:00:00\u001B[0m:00:01\u001B[0m00:01\u001B[0m\r\n",
      "\u001B[?25hInstalling collected packages: opencv-python\r\n",
      "Successfully installed opencv-python-4.8.1.78\r\n",
      "\r\n",
      "\u001B[1m[\u001B[0m\u001B[34;49mnotice\u001B[0m\u001B[1;39;49m]\u001B[0m\u001B[39;49m A new release of pip is available: \u001B[0m\u001B[31;49m23.2.1\u001B[0m\u001B[39;49m -> \u001B[0m\u001B[32;49m23.3.2\u001B[0m\r\n",
      "\u001B[1m[\u001B[0m\u001B[34;49mnotice\u001B[0m\u001B[1;39;49m]\u001B[0m\u001B[39;49m To update, run: \u001B[0m\u001B[32;49mpip install --upgrade pip\u001B[0m\r\n"
     ]
    }
   ],
   "source": [
    "!pip install opencv-python"
   ],
   "metadata": {
    "collapsed": false,
    "ExecuteTime": {
     "end_time": "2023-12-20T10:58:32.027013091Z",
     "start_time": "2023-12-20T10:58:19.430034029Z"
    }
   },
   "id": "faecf836763ca2a2"
  },
  {
   "cell_type": "code",
   "execution_count": 2,
   "outputs": [],
   "source": [
    "import cv2\n",
    "import numpy as np"
   ],
   "metadata": {
    "collapsed": false,
    "ExecuteTime": {
     "end_time": "2023-12-20T10:58:40.383175364Z",
     "start_time": "2023-12-20T10:58:40.190281547Z"
    }
   },
   "id": "initial_id"
  },
  {
   "cell_type": "code",
   "execution_count": 18,
   "outputs": [],
   "source": [
    "def separate_signatures_and_stamps(image_path):\n",
    "    # Загрузка изображения\n",
    "    image = cv2.imread(image_path)\n",
    "\n",
    "    # Определение цветовых диапазонов для подписей и печатей\n",
    "    blue_lower = np.array([100, 0, 0], dtype=\"uint8\")\n",
    "    blue_upper = np.array([140, 255, 255], dtype=\"uint8\")\n",
    "    \n",
    "    red_lower = np.array([0, 0, 100], dtype=\"uint8\")\n",
    "    red_upper = np.array([80, 80, 255], dtype=\"uint8\")\n",
    "\n",
    "    # Преобразование изображения в цветовое пространство HSV\n",
    "    hsv_image = cv2.cvtColor(image, cv2.COLOR_BGR2HSV)\n",
    "\n",
    "    # Создание масок для подписей и печатей\n",
    "    blue_mask = cv2.inRange(hsv_image, blue_lower, blue_upper)\n",
    "    red_mask = cv2.inRange(hsv_image, red_lower, red_upper)\n",
    "\n",
    "    # Применение масок к изображению\n",
    "    signatures = cv2.bitwise_and(image, image, mask=blue_mask)\n",
    "    stamps = cv2.bitwise_and(image, image, mask=red_mask)\n",
    "\n",
    "    # Сохранение результатов\n",
    "    cv2.imwrite('signs.jpg', signatures)\n",
    "    cv2.imwrite('stamps.jpg', stamps)"
   ],
   "metadata": {
    "collapsed": false,
    "ExecuteTime": {
     "end_time": "2023-12-20T11:11:40.992938610Z",
     "start_time": "2023-12-20T11:11:40.858419797Z"
    }
   },
   "id": "5d4c7aee801fba73"
  },
  {
   "cell_type": "code",
   "execution_count": 19,
   "outputs": [],
   "source": [
    "# Путь к вашему изображению\n",
    "image_path = \"image003.jpg\"\n",
    "\n",
    "# Вызов функции для разделения печатей и подписей\n",
    "separate_signatures_and_stamps(image_path)"
   ],
   "metadata": {
    "collapsed": false,
    "ExecuteTime": {
     "end_time": "2023-12-20T11:11:42.179677972Z",
     "start_time": "2023-12-20T11:11:41.535435360Z"
    }
   },
   "id": "e0a6ae9cd3b13bc4"
  },
  {
   "cell_type": "code",
   "execution_count": null,
   "outputs": [],
   "source": [
    "from deconvolution import Deconvolution\n",
    "from PIL import Image\n",
    "\n",
    "img = Image.open(\"image003.jpg\")\n",
    "\n",
    "# Declare an instance of Deconvolution, with image loaded and with color basis defining what layers are interesting\n",
    "decimg = Deconvolution(image=img, basis=[[1, 0.1, 0.2], [0, 0.1, 0.8]])\n",
    "\n",
    "# Constructs new PIL Images, with different color layers\n",
    "layer1, layer2 = decimg.out_images(mode=[1, 2])"
   ],
   "metadata": {
    "collapsed": false,
    "is_executing": true,
    "ExecuteTime": {
     "start_time": "2023-12-20T11:15:13.435605678Z"
    }
   },
   "id": "38cfc35ad9d4e1e"
  },
  {
   "cell_type": "code",
   "execution_count": null,
   "outputs": [],
   "source": [],
   "metadata": {
    "collapsed": false
   },
   "id": "adf405031d617798"
  }
 ],
 "metadata": {
  "kernelspec": {
   "display_name": "Python 3",
   "language": "python",
   "name": "python3"
  },
  "language_info": {
   "codemirror_mode": {
    "name": "ipython",
    "version": 2
   },
   "file_extension": ".py",
   "mimetype": "text/x-python",
   "name": "python",
   "nbconvert_exporter": "python",
   "pygments_lexer": "ipython2",
   "version": "2.7.6"
  }
 },
 "nbformat": 4,
 "nbformat_minor": 5
}
